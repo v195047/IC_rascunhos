{
 "cells": [
  {
   "cell_type": "markdown",
   "metadata": {},
   "source": [
    "# MLP"
   ]
  },
  {
   "cell_type": "code",
   "execution_count": 1,
   "metadata": {},
   "outputs": [],
   "source": [
    "import numpy as np \n",
    "import pandas as pd \n",
    "import matplotlib.pyplot as plt \n",
    "import matplotlib\n",
    "from sklearn.preprocessing import MinMaxScaler\n",
    "from sanfis import SANFIS\n",
    "from sanfis import plottingtools\n",
    "import torch\n",
    "from pandas import DataFrame\n",
    "from pandas import concat\n",
    "from tensorflow import keras, Tensor\n",
    "import torch.nn as nn \n",
    "import torch.nn.functional as F\n",
    "import optuna\n",
    "# matplotlib.style.use(\"classic\")\n",
    "#Função auxiliar\n",
    "def series_to_supervised(data, n_in=1, n_out=1, dropnan=True):\n",
    "\t\"\"\"\n",
    "\tFrame a time series as a supervised learning dataset.\n",
    "\tArguments:\n",
    "\t\tdata: Sequence of observations as a list or NumPy array.\n",
    "\t\tn_in: Number of lag observations as input (X).\n",
    "\t\tn_out: Number of observations as output (y).\n",
    "\t\tdropnan: Boolean whether or not to drop rows with NaN values.\n",
    "\tReturns:\n",
    "\t\tPandas DataFrame of series framed for supervised learning.\n",
    "\t\"\"\"\n",
    "\tn_vars = 1 if type(data) is list else data.shape[1]\n",
    "\tdf = DataFrame(data)\n",
    "\tcols, names = list(), list()\n",
    "\t# input sequence (t-n, ... t-1)\n",
    "\tfor i in range(n_in, 0, -1):\n",
    "\t\tcols.append(df.shift(i))\n",
    "\t\tnames += [('var%d(t-%d)' % (j+1, i)) for j in range(n_vars)]\n",
    "\t# forecast sequence (t, t+1, ... t+n)\n",
    "\tfor i in range(0, n_out):\n",
    "\t\tcols.append(df.shift(-i))\n",
    "\t\tif i == 0:\n",
    "\t\t\tnames += [('var%d(t)' % (j+1)) for j in range(n_vars)]\n",
    "\t\telse:\n",
    "\t\t\tnames += [('var%d(t+%d)' % (j+1, i)) for j in range(n_vars)]\n",
    "\t# put it all together\n",
    "\tagg = concat(cols, axis=1)\n",
    "\tagg.columns = names\n",
    "\t# drop rows with NaN values\n",
    "\tif dropnan:\n",
    "\t\tagg.dropna(inplace=True)\n",
    "\treturn agg"
   ]
  },
  {
   "cell_type": "code",
   "execution_count": 2,
   "metadata": {},
   "outputs": [
    {
     "data": {
      "text/plain": [
       "(6000, 4)"
      ]
     },
     "execution_count": 2,
     "metadata": {},
     "output_type": "execute_result"
    }
   ],
   "source": [
    "dados = np.loadtxt(\"Dados/dados_com_ruido.csv\", delimiter=',')\n",
    "t = np.loadtxt(\"instante.csv\", delimiter=',')\n",
    "dados.shape"
   ]
  },
  {
   "cell_type": "code",
   "execution_count": 3,
   "metadata": {},
   "outputs": [],
   "source": [
    "n_in = 1 #atrasos de tempo para prever o próximo estado\n",
    "\n",
    "D = series_to_supervised(dados, n_in=n_in, n_out=1)\n",
    "f_treino = 0.7 \n",
    "\n",
    "D_treino = D.iloc[0:int(f_treino*len(D)), :]\n",
    "D_teste = D.iloc[int(f_treino*len(D)):,:]\n",
    "\n",
    "sc = MinMaxScaler()\n",
    "sc2 = MinMaxScaler()\n",
    "sc2.fit(D_treino.iloc[:,-1].values.reshape(-1,1))\n",
    "sc.fit(D_treino)\n",
    "\n",
    "D_treino_normalizado = sc.transform(D_treino)\n",
    "D_teste_normalizado = sc.transform(D_teste)\n",
    "\n",
    "x_treino = D_treino_normalizado[:, 0:-4]\n",
    "y_treino = D_treino_normalizado[:,-4:]\n",
    "\n",
    "x_teste = D_teste_normalizado[:, 0:-4]\n",
    "y_teste = D_teste_normalizado[:,-4:]\n",
    "\n",
    "# fig, ((ax1,ax2), (ax2,ax3)) = plt.subplots(2,2,figsize=(20,10))\n",
    "# ax1.plot(y_treino[:,1])\n",
    "\n",
    "x_treino, x_teste, y_treino, y_teste = np.array(x_treino), np.array(x_teste), np.array(y_treino)[:,-1].reshape(-1,1), np.array(y_teste)[:,-1].reshape(-1,1)"
   ]
  },
  {
   "cell_type": "code",
   "execution_count": 4,
   "metadata": {},
   "outputs": [
    {
     "name": "stdout",
     "output_type": "stream",
     "text": [
      "Epoch 1/100\n",
      "420/420 [==============================] - 4s 4ms/step - loss: 0.0580 - val_loss: 0.0075\n",
      "Epoch 2/100\n",
      "420/420 [==============================] - 1s 3ms/step - loss: 0.0057 - val_loss: 0.0093\n",
      "Epoch 3/100\n",
      "420/420 [==============================] - 1s 3ms/step - loss: 0.0031 - val_loss: 0.0057\n",
      "Epoch 4/100\n",
      "420/420 [==============================] - 1s 3ms/step - loss: 9.6607e-04 - val_loss: 0.0036\n",
      "Epoch 5/100\n",
      "420/420 [==============================] - 1s 3ms/step - loss: 1.3593e-04 - val_loss: 0.0014\n",
      "Epoch 6/100\n",
      "420/420 [==============================] - 1s 3ms/step - loss: 8.0070e-05 - val_loss: 8.6233e-04\n",
      "Epoch 7/100\n",
      "420/420 [==============================] - 1s 3ms/step - loss: 6.7275e-05 - val_loss: 7.4540e-04\n",
      "Epoch 8/100\n",
      "420/420 [==============================] - 1s 3ms/step - loss: 5.9129e-05 - val_loss: 6.0001e-04\n",
      "Epoch 9/100\n",
      "420/420 [==============================] - 1s 3ms/step - loss: 5.4267e-05 - val_loss: 4.6603e-04\n",
      "Epoch 10/100\n",
      "420/420 [==============================] - 1s 2ms/step - loss: 4.7958e-05 - val_loss: 3.3469e-04\n",
      "Epoch 11/100\n",
      "420/420 [==============================] - 1s 3ms/step - loss: 4.8335e-05 - val_loss: 3.4298e-04\n",
      "Epoch 12/100\n",
      "420/420 [==============================] - 1s 2ms/step - loss: 4.7580e-05 - val_loss: 3.3349e-04\n",
      "Epoch 13/100\n",
      "420/420 [==============================] - 1s 3ms/step - loss: 4.7608e-05 - val_loss: 3.3272e-04\n",
      "Epoch 14/100\n",
      "420/420 [==============================] - 1s 3ms/step - loss: 5.0614e-05 - val_loss: 3.2960e-04\n",
      "Epoch 15/100\n",
      "420/420 [==============================] - 1s 2ms/step - loss: 4.8218e-05 - val_loss: 3.4174e-04\n",
      "Epoch 16/100\n",
      "420/420 [==============================] - 1s 3ms/step - loss: 4.8025e-05 - val_loss: 3.9690e-04\n",
      "Epoch 17/100\n",
      "420/420 [==============================] - 1s 3ms/step - loss: 4.5089e-05 - val_loss: 4.4848e-04\n",
      "Epoch 18/100\n",
      "420/420 [==============================] - 1s 3ms/step - loss: 4.4462e-05 - val_loss: 4.7355e-04\n",
      "Epoch 19/100\n",
      "420/420 [==============================] - 1s 3ms/step - loss: 4.6070e-05 - val_loss: 5.6603e-04\n",
      "Epoch 20/100\n",
      "420/420 [==============================] - 1s 3ms/step - loss: 4.6958e-05 - val_loss: 5.1392e-04\n",
      "Epoch 21/100\n",
      "420/420 [==============================] - 1s 2ms/step - loss: 4.5229e-05 - val_loss: 5.5428e-04\n",
      "Epoch 22/100\n",
      "420/420 [==============================] - 1s 2ms/step - loss: 4.8963e-05 - val_loss: 5.3483e-04\n",
      "Epoch 23/100\n",
      "420/420 [==============================] - 1s 2ms/step - loss: 4.7800e-05 - val_loss: 4.7798e-04\n",
      "Epoch 24/100\n",
      "420/420 [==============================] - 1s 2ms/step - loss: 4.6435e-05 - val_loss: 4.9041e-04\n"
     ]
    }
   ],
   "source": [
    "def SLFN():\n",
    "    modelo = keras.Sequential([\n",
    "        keras.layers.Dense(20, activation='relu', input_shape=[4]),\n",
    "        keras.layers.Dense(1)\n",
    "    ])\n",
    "    optimizer = keras.optimizers.Adam()\n",
    "    modelo.compile(loss=\"mse\", optimizer=optimizer)\n",
    "    return modelo \n",
    "modelo = SLFN()\n",
    "\n",
    "earlyStopping = keras.callbacks.EarlyStopping(monitor='val_loss', patience=10, verbose=0, mode='min', restore_best_weights=True)\n",
    "\n",
    "\n",
    "history = modelo.fit(x_treino, y_treino, validation_data=[x_teste, y_teste], verbose=1, epochs=100, batch_size=10, callbacks=earlyStopping)"
   ]
  },
  {
   "cell_type": "code",
   "execution_count": 5,
   "metadata": {},
   "outputs": [
    {
     "name": "stdout",
     "output_type": "stream",
     "text": [
      "Model: \"sequential\"\n",
      "_________________________________________________________________\n",
      " Layer (type)                Output Shape              Param #   \n",
      "=================================================================\n",
      " dense (Dense)               (None, 20)                100       \n",
      "                                                                 \n",
      " dense_1 (Dense)             (None, 1)                 21        \n",
      "                                                                 \n",
      "=================================================================\n",
      "Total params: 121\n",
      "Trainable params: 121\n",
      "Non-trainable params: 0\n",
      "_________________________________________________________________\n"
     ]
    }
   ],
   "source": [
    "modelo.summary()"
   ]
  },
  {
   "cell_type": "code",
   "execution_count": 6,
   "metadata": {},
   "outputs": [
    {
     "data": {
      "text/plain": [
       "[<matplotlib.lines.Line2D at 0x1af4c358b80>]"
      ]
     },
     "execution_count": 6,
     "metadata": {},
     "output_type": "execute_result"
    },
    {
     "data": {
      "image/png": "[encoded data removed]",
      "text/plain": [
       "<Figure size 576x396 with 1 Axes>"
      ]
     },
     "metadata": {},
     "output_type": "display_data"
    }
   ],
   "source": [
    "X = np.concatenate([x_treino, x_teste])\n",
    "Y = np.concatenate([y_treino, y_teste])\n",
    "plt.plot(modelo.predict(X))\n",
    "plt.plot(Y)"
   ]
  },
  {
   "cell_type": "code",
   "execution_count": 7,
   "metadata": {},
   "outputs": [
    {
     "name": "stdout",
     "output_type": "stream",
     "text": [
      "INFO:tensorflow:Assets written to: modelos/MLP\\assets\n"
     ]
    }
   ],
   "source": [
    "modelo.save(\"modelos/MLP\")"
   ]
  }
 ],
 "metadata": {
  "kernelspec": {
   "display_name": "Python 3.10.2 64-bit",
   "language": "python",
   "name": "python3"
  },
  "language_info": {
   "codemirror_mode": {
    "name": "ipython",
    "version": 3
   },
   "file_extension": ".py",
   "mimetype": "text/x-python",
   "name": "python",
   "nbconvert_exporter": "python",
   "pygments_lexer": "ipython3",
   "version": "3.10.2"
  },
  "orig_nbformat": 4,
  "vscode": {
   "interpreter": {
    "hash": "fd8db74a429d8e96fff0b62ff1616b1f6342bdfcd68d7e9b36242388cfe510a9"
   }
  }
 },
 "nbformat": 4,
 "nbformat_minor": 2
}
